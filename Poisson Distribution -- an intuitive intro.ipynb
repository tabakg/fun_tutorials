{
 "cells": [
  {
   "cell_type": "markdown",
   "metadata": {},
   "source": [
    "# Poisson Distribution -- an intuitive intro"
   ]
  },
  {
   "cell_type": "markdown",
   "metadata": {},
   "source": [
    "Suppose we are watching the sky and can detect whenever a photon arrives. Over a long period of time $T$, we expect to observe some large number of photons $N$. Suppose there are many different sources of photons, so that the probability of detecting one photon can be considered effectively independent of detecting any other photon. Let's assume that for each photon the probability of being found is also uniform in time. \n",
    "\n",
    "We can think of a \"photon density\" per time $\\lambda = N / T$. That is, in a short time $\\Delta t$, we will have roughly $\\lambda \\Delta t$ photons. "
   ]
  },
  {
   "cell_type": "code",
   "execution_count": 19,
   "metadata": {
    "collapsed": false
   },
   "outputs": [
    {
     "name": "stdout",
     "output_type": "stream",
     "text": [
      "Populating the interactive namespace from numpy and matplotlib\n"
     ]
    }
   ],
   "source": [
    "import numpy.random as rd\n",
    "import matplotlib.pyplot as plt\n",
    "%pylab inline"
   ]
  },
  {
   "cell_type": "code",
   "execution_count": 27,
   "metadata": {
    "collapsed": false
   },
   "outputs": [],
   "source": [
    "N = 1000 ## total photons\n",
    "T = 100 ## total time\n",
    "dt = 1 ## interval we look over\n",
    "\n",
    "trials = 1000 ## The number of times to run the experiment."
   ]
  },
  {
   "cell_type": "code",
   "execution_count": 28,
   "metadata": {
    "collapsed": false
   },
   "outputs": [],
   "source": [
    "def experiment(N,T,dt):\n",
    "    count = 0\n",
    "    for i in range(N):\n",
    "        if T * rd.uniform() < dt:\n",
    "            count += 1\n",
    "    return count"
   ]
  },
  {
   "cell_type": "code",
   "execution_count": 29,
   "metadata": {
    "collapsed": false
   },
   "outputs": [],
   "source": [
    "vals = []\n",
    "for i in range(trials):\n",
    "    vals.append(experiment(N,T,dt))"
   ]
  },
  {
   "cell_type": "code",
   "execution_count": 66,
   "metadata": {
    "collapsed": false
   },
   "outputs": [
    {
     "data": {
      "text/plain": [
       "(array([   1.,    8.,   13.,   43.,   68.,   83.,  112.,  128.,  110.,\n",
       "         101.,  109.,   86.,   52.,   43.,   22.,   10.,    4.,    3.,\n",
       "           2.,    2.]),\n",
       " array([  2.,   3.,   4.,   5.,   6.,   7.,   8.,   9.,  10.,  11.,  12.,\n",
       "         13.,  14.,  15.,  16.,  17.,  18.,  19.,  20.,  21.,  22.]),\n",
       " <a list of 20 Patch objects>)"
      ]
     },
     "execution_count": 66,
     "metadata": {},
     "output_type": "execute_result"
    },
    {
     "data": {
      "image/png": "[encoded data removed]",
      "text/plain": [
       "<matplotlib.figure.Figure at 0x10cf0ae50>"
      ]
     },
     "metadata": {},
     "output_type": "display_data"
    }
   ],
   "source": [
    "plt.hist(vals,bins=20)"
   ]
  },
  {
   "cell_type": "markdown",
   "metadata": {},
   "source": [
    "In the limit of making $N$ and $T$ large but holding their ratio constant, we will attain the true Poisson distribution. How close is this distribution to the 'true' Poisson distribution?"
   ]
  },
  {
   "cell_type": "code",
   "execution_count": 76,
   "metadata": {
    "collapsed": false
   },
   "outputs": [],
   "source": [
    "lambd = N / T"
   ]
  },
  {
   "cell_type": "code",
   "execution_count": 77,
   "metadata": {
    "collapsed": false
   },
   "outputs": [],
   "source": [
    "vals_poisson = []\n",
    "for i in range(trials):\n",
    "    vals_poisson.append(rd.poisson(lambd))"
   ]
  },
  {
   "cell_type": "code",
   "execution_count": 78,
   "metadata": {
    "collapsed": false
   },
   "outputs": [
    {
     "data": {
      "text/plain": [
       "(array([   3.,    8.,   16.,   28.,   63.,   97.,  106.,  126.,  132.,\n",
       "         123.,  101.,   67.,   58.,   31.,   18.,    6.,    9.,    2.,\n",
       "           3.,    3.]),\n",
       " array([  2.,   3.,   4.,   5.,   6.,   7.,   8.,   9.,  10.,  11.,  12.,\n",
       "         13.,  14.,  15.,  16.,  17.,  18.,  19.,  20.,  21.,  22.]),\n",
       " <a list of 20 Patch objects>)"
      ]
     },
     "execution_count": 78,
     "metadata": {},
     "output_type": "execute_result"
    },
    {
     "data": {
      "image/png": "[encoded data removed]",
      "text/plain": [
       "<matplotlib.figure.Figure at 0x10f6eeb90>"
      ]
     },
     "metadata": {},
     "output_type": "display_data"
    }
   ],
   "source": [
    "plt.hist(vals_poisson,bins=20)"
   ]
  },
  {
   "cell_type": "markdown",
   "metadata": {},
   "source": [
    "We see that the two distributions above look quite similar. How similar are they really? Let's start by computing their means and standard deviations."
   ]
  },
  {
   "cell_type": "code",
   "execution_count": 79,
   "metadata": {
    "collapsed": false
   },
   "outputs": [],
   "source": [
    "ave = np.average(vals)\n",
    "std = np.std(vals)\n",
    "\n",
    "ave_poisson = np.average(vals_poisson)\n",
    "std_poisson = np.std(vals_poisson)"
   ]
  },
  {
   "cell_type": "code",
   "execution_count": 80,
   "metadata": {
    "collapsed": false
   },
   "outputs": [
    {
     "name": "stdout",
     "output_type": "stream",
     "text": [
      "                    average    standard deviation\n",
      "our distribution    10.074      3.14142069771\n",
      "True Poisson        10.021      3.08424366742\n"
     ]
    }
   ],
   "source": [
    "print \"                    average    standard deviation\"\n",
    "print \"our distribution    \" + str(ave) + \"      \" + str(std)\n",
    "print \"True Poisson        \" + str(ave_poisson) + \"      \" + str(std_poisson)"
   ]
  },
  {
   "cell_type": "markdown",
   "metadata": {},
   "source": [
    "That's pretty close! We notice how the average is around 10 (which is what we would expect). If we increased the number of trials, the average we find will get closer and closer to 10. \n",
    "\n",
    "The standard deviations are pretty close as well. Notice another interesting observation, the average is roughly the square of the standard deviation (i.e. the variance of each distribution). This is actually a property of the Poisson distribution! To see this, let's run a few more experiments. This time, for each distribution, we will keep track of each count for the possible outcomes."
   ]
  },
  {
   "cell_type": "code",
   "execution_count": 171,
   "metadata": {
    "collapsed": false
   },
   "outputs": [],
   "source": [
    "lambds = [2.5,5.,7.5,10.,12.5,15.,17.5]\n",
    "Poisson_count={}\n",
    "averages = {}\n",
    "variances = {}"
   ]
  },
  {
   "cell_type": "code",
   "execution_count": 172,
   "metadata": {
    "collapsed": false
   },
   "outputs": [],
   "source": [
    "for lambd in lambds:\n",
    "    for i in range(trials):\n",
    "        val = rd.poisson(lambd)\n",
    "        if (lambd,val) in Poisson_count:\n",
    "            Poisson_count[lambd,val] += 1\n",
    "        else:\n",
    "            Poisson_count[lambd,val] = 1"
   ]
  },
  {
   "cell_type": "code",
   "execution_count": 173,
   "metadata": {
    "collapsed": true
   },
   "outputs": [],
   "source": [
    "def weighted_ave_and_var(values, weights):\n",
    "    average = np.average(values, weights=weights)\n",
    "    variance = np.average((values-average)**2, weights=weights)\n",
    "    return (average, variance)"
   ]
  },
  {
   "cell_type": "code",
   "execution_count": 174,
   "metadata": {
    "collapsed": false
   },
   "outputs": [
    {
     "data": {
      "image/png": "[encoded data removed]",
      "text/plain": [
       "<matplotlib.figure.Figure at 0x110558410>"
      ]
     },
     "metadata": {},
     "output_type": "display_data"
    }
   ],
   "source": [
    "for lambd in lambds:\n",
    "    x = [key[1] for key in Poisson_count if key[0] == lambd]\n",
    "    x.sort()\n",
    "    y = [Poisson_count[lambd,val] for val in x]\n",
    "    plt.plot(x,y)\n",
    "    averages[lambd],variances[lambd] = weighted_ave_and_var(x,y)"
   ]
  },
  {
   "cell_type": "code",
   "execution_count": 199,
   "metadata": {
    "collapsed": false
   },
   "outputs": [
    {
     "name": "stdout",
     "output_type": "stream",
     "text": [
      "lambda    averages    variances\n",
      "2.5         2.471     2.641159\n",
      "5.0         4.934     4.405644\n",
      "7.5         7.475     7.613375\n",
      "10.0        10.128    10.915616\n",
      "12.5        12.599    12.758199\n",
      "15.0         15.08      14.8436\n",
      "17.5        17.743    16.798951\n"
     ]
    }
   ],
   "source": [
    "print '{:>0}  {:>10}  {:>11}'.format('lambda','averages','variances')\n",
    "for lambd in lambds:\n",
    "    print '{:>0}  {:>12}  {:>11}'.format(str(lambd), str(averages[lambd]), str(variances[lambd]))\n"
   ]
  },
  {
   "cell_type": "code",
   "execution_count": null,
   "metadata": {
    "collapsed": true
   },
   "outputs": [],
   "source": []
  }
 ],
 "metadata": {
  "kernelspec": {
   "display_name": "Python 2",
   "language": "python",
   "name": "python2"
  },
  "language_info": {
   "codemirror_mode": {
    "name": "ipython",
    "version": 2
   },
   "file_extension": ".py",
   "mimetype": "text/x-python",
   "name": "python",
   "nbconvert_exporter": "python",
   "pygments_lexer": "ipython2",
   "version": "2.7.11"
  }
 },
 "nbformat": 4,
 "nbformat_minor": 0
}
